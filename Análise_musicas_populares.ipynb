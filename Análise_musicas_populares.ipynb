{
  "nbformat": 4,
  "nbformat_minor": 0,
  "metadata": {
    "colab": {
      "provenance": [],
      "authorship_tag": "ABX9TyNbFaEYBBz2unhLNJXUAjZx",
      "include_colab_link": true
    },
    "kernelspec": {
      "name": "python3",
      "display_name": "Python 3"
    },
    "language_info": {
      "name": "python"
    }
  },
  "cells": [
    {
      "cell_type": "markdown",
      "metadata": {
        "id": "view-in-github",
        "colab_type": "text"
      },
      "source": [
        "<a href=\"https://colab.research.google.com/github/biancamotac/analise_musicas_populares/blob/main/An%C3%A1lise_musicas_populares.ipynb\" target=\"_parent\"><img src=\"https://colab.research.google.com/assets/colab-badge.svg\" alt=\"Open In Colab\"/></a>"
      ]
    },
    {
      "cell_type": "code",
      "execution_count": null,
      "metadata": {
        "colab": {
          "base_uri": "https://localhost:8080/"
        },
        "id": "8lNRR0xP6Nzd",
        "outputId": "17314c0c-58ff-4199-d09a-6e4ff6a865e6"
      },
      "outputs": [
        {
          "output_type": "stream",
          "name": "stdout",
          "text": [
            "Client ID carregado: True\n",
            "Client Secret carregado: True\n"
          ]
        }
      ],
      "source": [
        "import os\n",
        "\n",
        "os.environ['CLIENT_ID'] = 'ec557aa1280f4ef49404d325acdb0fa4'\n",
        "os.environ['CLIENT_SECRET'] = '19061df317d14bb6b9383ae3d03b22d1'\n",
        "\n",
        "CLIENT_ID = os.environ.get('CLIENT_ID')\n",
        "CLIENT_SECRET = os.environ.get('CLIENT_SECRET')\n",
        "\n",
        "print(f\"Client ID carregado: {len(CLIENT_ID) > 1}\")\n",
        "print(f\"Client Secret carregado: {len(CLIENT_SECRET) > 1}\")"
      ]
    },
    {
      "cell_type": "code",
      "source": [
        "import requests\n",
        "import base64\n",
        "import os\n",
        "\n",
        "CLIENT_ID = os.environ.get('CLIENT_ID')\n",
        "CLIENT_SECRET = os.environ.get('CLIENT_SECRET')\n",
        "\n",
        "auth_string = f\"{CLIENT_ID}:{CLIENT_SECRET}\"\n",
        "auth_bytes = auth_string.encode(\"utf-8\")\n",
        "auth_base64 = base64.b64encode(auth_bytes).decode(\"utf-8\")\n",
        "\n",
        "token_url = \"https://accounts.spotify.com/api/token\"\n",
        "headers = {\n",
        "    \"Authorization\": f\"Basic {auth_base64}\",\n",
        "    \"Content-Type\": \"application/x-www-form-urlencoded\"\n",
        "}\n",
        "data = {\"grant_type\": \"client_credentials\"}\n",
        "\n",
        "response = requests.post(token_url, headers=headers, data=data)\n",
        "token_info = response.json()\n",
        "\n",
        "access_token = token_info.get(\"access_token\")\n",
        "\n",
        "print(\"Token de Acesso obtido com sucesso!\")\n",
        "print(f\"Token: {access_token[:20]}...\")"
      ],
      "metadata": {
        "colab": {
          "base_uri": "https://localhost:8080/"
        },
        "id": "lJ1WilBR9XBg",
        "outputId": "921b565f-c68a-4877-ced6-71f6f34a5e65"
      },
      "execution_count": null,
      "outputs": [
        {
          "output_type": "stream",
          "name": "stdout",
          "text": [
            "Token de Acesso obtido com sucesso!\n",
            "Token: BQDj18heyiaHUrTQ41U8...\n"
          ]
        }
      ]
    },
    {
      "cell_type": "code",
      "source": [
        "\n",
        "headers = {\n",
        "    \"Authorization\": f\"Bearer {access_token}\"\n",
        "}\n",
        "\n",
        "artist_name = \"BTS\"\n",
        "search_url = f\"https://api.spotify.com/v1/search?q={artist_name}&type=artist&limit=1\"\n",
        "search_response = requests.get(search_url, headers=headers)\n",
        "search_data = search_response.json()\n",
        "\n",
        "try:\n",
        "    bts_id = search_data['artists']['items'][0]['id']\n",
        "    print(f\"\\nID do BTS encontrado: {bts_id}\")\n",
        "except IndexError:\n",
        "    print(\"\\nArtista não encontrado.\")\n",
        "    bts_id = None\n",
        "\n",
        "\n",
        "if bts_id:\n",
        "    top_tracks_url = f\"https://api.spotify.com/v1/artists/{bts_id}/top-tracks?market=BR\"\n",
        "    top_tracks_response = requests.get(top_tracks_url, headers=headers)\n",
        "    top_tracks_data = top_tracks_response.json()\n",
        "\n",
        "\n",
        "    print(\"\\nTop 10 Músicas do BTS no Brasil:\")\n",
        "    for track in top_tracks_data['tracks']:\n",
        "        print(f\"- {track['name']}\")"
      ],
      "metadata": {
        "colab": {
          "base_uri": "https://localhost:8080/"
        },
        "id": "Fr2aUSzX9n1a",
        "outputId": "9f8bdf64-0a19-419a-e554-50136b773532"
      },
      "execution_count": null,
      "outputs": [
        {
          "output_type": "stream",
          "name": "stdout",
          "text": [
            "\n",
            "ID do BTS encontrado: 3Nrfpe0tUJi4K4DXYWgMUX\n",
            "\n",
            "Top 10 Músicas do BTS no Brasil:\n",
            "- Dynamite\n",
            "- My Universe\n",
            "- Life Goes On\n",
            "- FAKE LOVE\n",
            "- Boy With Luv (feat. Halsey)\n",
            "- Butter\n",
            "- Left and Right (Feat. Jung Kook of BTS)\n",
            "- Permission to Dance - Live\n",
            "- Run BTS\n",
            "- DNA\n"
          ]
        }
      ]
    },
    {
      "cell_type": "code",
      "source": [
        "import pandas as pd\n",
        "\n",
        "if 'tracks' in top_tracks_data:\n",
        "    tracks_list = []\n",
        "    for track in top_tracks_data['tracks']:\n",
        "        tracks_list.append({\n",
        "            'id': track['id'],\n",
        "            'nome_musica': track['name'],\n",
        "            'popularidade': track['popularity'],\n",
        "            'duracao_ms': track['duration_ms'],\n",
        "            'album': track['album']['name'],\n",
        "            'data_lancamento_album': track['album']['release_date']\n",
        "        })\n",
        "\n",
        "    df_top_bts = pd.DataFrame(tracks_list)\n",
        "\n",
        "    # Exibe o DataFrame\n",
        "    print(\"\\nDataFrame criado com sucesso!\")\n",
        "    print(df_top_bts.head())\n",
        "else:\n",
        "    print(\"Nenhum dado de música encontrado para criar o DataFrame.\")"
      ],
      "metadata": {
        "colab": {
          "base_uri": "https://localhost:8080/"
        },
        "id": "qXZ6NiWp-U9n",
        "outputId": "58dc4871-b66a-4215-8502-5e1a03441b19"
      },
      "execution_count": null,
      "outputs": [
        {
          "output_type": "stream",
          "name": "stdout",
          "text": [
            "\n",
            "DataFrame criado com sucesso!\n",
            "                       id                  nome_musica  popularidade  \\\n",
            "0  5QDLhrAOJJdNAmCTJ8xMyW                     Dynamite            79   \n",
            "1  46HNZY1i7O6jwTA7Slo2PI                  My Universe            76   \n",
            "2  5FVbvttjEvQ8r2BgUcJgNg                 Life Goes On            77   \n",
            "3  6m1TWFMeon7ai9XLOzdbiR                    FAKE LOVE            77   \n",
            "4  4a9tbd947vo9K8Vti9JwcI  Boy With Luv (feat. Halsey)            76   \n",
            "\n",
            "   duracao_ms                      album data_lancamento_album  \n",
            "0      199053                         BE            2020-11-20  \n",
            "1      226198       Music Of The Spheres            2021-10-15  \n",
            "2      207481                         BE            2020-11-20  \n",
            "3      242333     Love Yourself 轉 'Tear'            2018-05-18  \n",
            "4      229773  MAP OF THE SOUL : PERSONA            2019-04-12  \n"
          ]
        }
      ]
    },
    {
      "cell_type": "code",
      "source": [
        "import pandas as pd\n",
        "import matplotlib.pyplot as plt\n",
        "\n",
        "data = {\n",
        "    'id': ['152l0gPz3Yd4g2J2Qv4qMv', '3t5i2h75y1b4x9r8q7l6k5', '4e1z7d3a2j1h5g6f9d8c7b'],\n",
        "    'nome_musica': ['Dynamite', 'Butter', 'Permission to Dance'],\n",
        "    'popularidade': [95, 93, 90],\n",
        "    'duracao_ms': [199054, 185689, 219736],\n",
        "    'album': ['BE', 'Butter', 'Butter'],\n",
        "    'data_lancamento_album': ['2020-11-20', '2021-05-21', '2021-07-09']\n",
        "}\n",
        "df_top_bts = pd.DataFrame(data)\n",
        "\n",
        "plt.figure(figsize=(7, 6))\n",
        "plt.bar(df_top_bts['nome_musica'], df_top_bts['popularidade'], color='purple')\n",
        "\n",
        "plt.title('Popularidade das Músicas do BTS (dados simulados)', fontsize=16)\n",
        "plt.xlabel('Nome da Música', fontsize=12)\n",
        "plt.ylabel('Pontuação de Popularidade', fontsize=12)\n",
        "\n",
        "plt.xticks(rotation=45, ha='right')\n",
        "\n",
        "plt.grid(axis='y', linestyle='--', alpha=0.7)\n",
        "\n",
        "plt.tight_layout()\n",
        "\n",
        "plt.savefig('popularidade_bts.png')\n",
        "\n",
        "plt.show()"
      ],
      "metadata": {
        "colab": {
          "base_uri": "https://localhost:8080/",
          "height": 607
        },
        "id": "vAS0rgFs_iYe",
        "outputId": "a9ec6458-0270-4090-c320-9aaa219b5785"
      },
      "execution_count": null,
      "outputs": [
        {
          "output_type": "display_data",
          "data": {
            "text/plain": [
              "<Figure size 700x600 with 1 Axes>"
            ],
            "image/png": "[encoded data removed]"
          },
          "metadata": {}
        }
      ]
    }
  ]
}